{
 "cells": [
  {
   "cell_type": "markdown",
   "metadata": {},
   "source": [
    "\n",
    "<div id=\"navegacion\" prev=\"../Ejercicios_Tema_7/ej6.html\" next=\"\"></div>\n",
    "\n",
    "<div class=\"section-title\">Sección 6.5</div>"
   ]
  },
  {
   "cell_type": "markdown",
   "metadata": {},
   "source": [
    "#  Movilens 1M"
   ]
  },
  {
   "cell_type": "markdown",
   "metadata": {},
   "source": [
    "\n",
    "Movilens Dataset recoge datos de 6000 usuarios y 4000  películas. La información se distribuye en 3 tablas.\n",
    "\n",
    "- [ratings.dat](./ml-1m/ratings.dat) - El fichero recoge datos de valoraciones  de los usuarios. Las columnas son: Usuario, MovieID, Puntuación, Fecha.\n",
    "\n",
    "- [movies.dat](./ml-1m/movies.dat) - Datos de las películas. Las columnas son: MovieID, Titulo, Género\n",
    "- [users.dat](./ml-1m/users.dat) - Datos personales de los usuarios. Las columnas son: Usuario, Sexo, Edad, Ocupación, ZipCode.\n",
    "\n",
    "\n",
    "Toda esta información se utiliza con mucha frecuencia en los sistemas de recomendación que aplican algoritmos de aprendizaje.\n",
    "La información del contenido de los ficheros la puedes encontrar en el enlace [README](./ml-1m/README).\n"
   ]
  },
  {
   "cell_type": "markdown",
   "metadata": {},
   "source": [
    "## Importar datos"
   ]
  },
  {
   "cell_type": "markdown",
   "metadata": {},
   "source": [
    "Crear un DataFrame para cada uno de los ficheros.  Usar la función `head()` para visualizar los primeros datos.\n",
    "El fichero ratings tiene un campo de tipo fecha. Usa el parámetro `parse_dates` para cargar de forma adecuada las fechas."
   ]
  },
  {
   "cell_type": "code",
   "execution_count": 50,
   "metadata": {
    "ExecuteTime": {
     "end_time": "2018-10-29T11:18:56.651038Z",
     "start_time": "2018-10-29T11:18:56.638638Z"
    }
   },
   "outputs": [
    {
     "data": {
      "text/html": [
       "<div>\n",
       "<style scoped>\n",
       "    .dataframe tbody tr th:only-of-type {\n",
       "        vertical-align: middle;\n",
       "    }\n",
       "\n",
       "    .dataframe tbody tr th {\n",
       "        vertical-align: top;\n",
       "    }\n",
       "\n",
       "    .dataframe thead th {\n",
       "        text-align: right;\n",
       "    }\n",
       "</style>\n",
       "<table border=\"1\" class=\"dataframe\">\n",
       "  <thead>\n",
       "    <tr style=\"text-align: right;\">\n",
       "      <th></th>\n",
       "      <th>Usuario</th>\n",
       "      <th>MovieID</th>\n",
       "      <th>Puntuacion</th>\n",
       "      <th>Fecha</th>\n",
       "    </tr>\n",
       "  </thead>\n",
       "  <tbody>\n",
       "    <tr>\n",
       "      <th>0</th>\n",
       "      <td>1139</td>\n",
       "      <td>377</td>\n",
       "      <td>4</td>\n",
       "      <td>2000-11-22 08:29:17</td>\n",
       "    </tr>\n",
       "    <tr>\n",
       "      <th>1</th>\n",
       "      <td>1524</td>\n",
       "      <td>3857</td>\n",
       "      <td>4</td>\n",
       "      <td>2000-11-20 19:57:23</td>\n",
       "    </tr>\n",
       "    <tr>\n",
       "      <th>2</th>\n",
       "      <td>4823</td>\n",
       "      <td>2987</td>\n",
       "      <td>3</td>\n",
       "      <td>2000-07-09 00:25:18</td>\n",
       "    </tr>\n",
       "    <tr>\n",
       "      <th>3</th>\n",
       "      <td>336</td>\n",
       "      <td>2105</td>\n",
       "      <td>5</td>\n",
       "      <td>2000-12-09 12:38:32</td>\n",
       "    </tr>\n",
       "    <tr>\n",
       "      <th>4</th>\n",
       "      <td>5131</td>\n",
       "      <td>1752</td>\n",
       "      <td>2</td>\n",
       "      <td>2000-06-27 20:32:25</td>\n",
       "    </tr>\n",
       "  </tbody>\n",
       "</table>\n",
       "</div>"
      ],
      "text/plain": [
       "   Usuario  MovieID  Puntuacion                Fecha\n",
       "0     1139      377           4  2000-11-22 08:29:17\n",
       "1     1524     3857           4  2000-11-20 19:57:23\n",
       "2     4823     2987           3  2000-07-09 00:25:18\n",
       "3      336     2105           5  2000-12-09 12:38:32\n",
       "4     5131     1752           2  2000-06-27 20:32:25"
      ]
     },
     "execution_count": 50,
     "metadata": {},
     "output_type": "execute_result"
    }
   ],
   "source": [
    "# Sol:\n",
    "import pandas as pd\n",
    "ratings=pd.read_csv(\"ratings.dat\",sep=\":\", header=None, names=[\"Usuario\", \"MovieID\", \"Puntuacion\", \"Fecha\"]);\n",
    "ratings.head()\n"
   ]
  },
  {
   "cell_type": "markdown",
   "metadata": {},
   "source": [
    "## Valoraciones de X-Men"
   ]
  },
  {
   "cell_type": "markdown",
   "metadata": {},
   "source": [
    "Los usuarios valoran las películas con valores del 1 al 5 donde el 1 es la peor puntuación y 5 es la mejor. La puntuación es una variable categórica. Calcula el número de votos de cada tipo (la frecuencia de votos) de la película con título `X-Men (2000)`. \n",
    "\n"
   ]
  },
  {
   "cell_type": "code",
   "execution_count": 56,
   "metadata": {},
   "outputs": [
    {
     "name": "stdout",
     "output_type": "stream",
     "text": [
      "Las puntuaciones obtenidas de la película X-Men (2000) han sido las siguientes: 4 4 2 5 5 3 4 5 4 3\n",
      "\n",
      "En total se obtuvieron: 39\n"
     ]
    }
   ],
   "source": [
    "# Sol:\n",
    "import pandas as pd\n",
    "movies = pd.read_csv(\"movies.dat\", sep=\":\", header=None, names=[\"ID\", \"Title\", \"Genres\"]);\n",
    "x_men=movies[movies[\"Title\"]==\"X-Men (2000)\"];\n",
    "x_men_id=x_men[\"ID\"].values.item();\n",
    "x_men_id\n",
    "ratings=pd.read_csv(\"ratings.dat\",sep=\":\", header=None, names=[\"Usuario\", \"MovieID\", \"Puntuacion\", \"Fecha\"]);\n",
    "\n",
    "film=ratings[ratings[\"MovieID\"]==x_men_id];\n",
    "ratings_id=\" \".join(map(str,film[\"Puntuacion\"] ));\n",
    "print(\"Las puntuaciones obtenidas de la película X-Men (2000) han sido las siguientes: \"+ratings_id+\"\\n\")\n",
    "print(\"En total se obtuvieron: \"+str(film[\"Puntuacion\"].sum()))"
   ]
  },
  {
   "cell_type": "markdown",
   "metadata": {
    "collapsed": true,
    "jupyter": {
     "outputs_hidden": true
    }
   },
   "source": [
    "## Puntuación media"
   ]
  },
  {
   "cell_type": "markdown",
   "metadata": {},
   "source": [
    "Calcula la puntuación media  de cada película por sexo del usuario. Diseña una función llamada `puntuacion_media` que devuelve un Dataframe donde el índice es el título de la película y las columnaa son 'F' y 'M' (Female y Male respectivamente).\n",
    "\n",
    "__Nota__:\n",
    "\n",
    "Hay varias formas de hacerlo. Aquí os dejo alguna sugerencia:\n",
    "* Necesitamos combinar las tres tablas ya que tenemos, por un lado las valoraciones, por otro el título de la película y por otro el sexo de los usuarios. La operación `merge` te permitirá realizar la  combinación.\n",
    "    * Combina primero las valoraciones con las peliculas por el campo 'id_peli'.\n",
    "    * Combina el resultado anterior con los usuarios por el campo 'id_usuario'.\n",
    "    \n",
    "* Una vez combinadas las tres tablas en una sola tabla:\n",
    "    * solución 1:  Agrupar por `id_peli` y por `sexo` del usuario. La función de agregación es la media `mean()`. Para obtener la tabla pedida utiliza `unstack` para deshacer el multi índice.\n",
    "    * solución 2: Consulta la ayuda de la función `pivot_table`. Utiliza la función `pivot_table`. Merece la pena que intentéis resolverlo también utilizando esta opción.\n"
   ]
  },
  {
   "cell_type": "code",
   "execution_count": 26,
   "metadata": {
    "collapsed": true,
    "jupyter": {
     "outputs_hidden": true
    }
   },
   "outputs": [],
   "source": [
    "# Sol:\n",
    "def puntuacion_media():\n",
    "    \"\"\"Calcula la puntuación media  de cada película por sexo del usuario\n",
    "    \n",
    "    Example:\n",
    "        >>> puntuacion_media()\n",
    "               \n",
    "        genero_u                            F          M\n",
    "        titulo \n",
    "        $1,000,000 Duck (1971)       3.375000    2.761905\n",
    "        'Night Mother (1986)         3.388889    3.352941\n",
    "        'Til There Was You (1997)    2.675676    2.733333\n",
    "\n",
    "        ...\n",
    "        ...\n",
    "\n",
    "\"\"\""
   ]
  }
 ],
 "metadata": {
  "anaconda-cloud": {},
  "kernelspec": {
   "display_name": "Python 3 (ipykernel)",
   "language": "python",
   "name": "python3"
  },
  "language_info": {
   "codemirror_mode": {
    "name": "ipython",
    "version": 3
   },
   "file_extension": ".py",
   "mimetype": "text/x-python",
   "name": "python",
   "nbconvert_exporter": "python",
   "pygments_lexer": "ipython3",
   "version": "3.11.7"
  },
  "nbTranslate": {
   "displayLangs": [
    "en",
    "es"
   ],
   "hotkey": "alt-t",
   "langInMainMenu": true,
   "sourceLang": "es",
   "targetLang": "en",
   "useGoogleTranslate": true
  },
  "toc": {
   "nav_menu": {},
   "number_sections": true,
   "sideBar": true,
   "skip_h1_title": false,
   "title_cell": "Table of Contents",
   "title_sidebar": "Contents",
   "toc_cell": false,
   "toc_position": {},
   "toc_section_display": true,
   "toc_window_display": false
  }
 },
 "nbformat": 4,
 "nbformat_minor": 4
}
