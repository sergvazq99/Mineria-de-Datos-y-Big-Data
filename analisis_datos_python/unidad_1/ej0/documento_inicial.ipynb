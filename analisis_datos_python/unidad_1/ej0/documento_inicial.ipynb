{
 "cells": [
  {
   "cell_type": "markdown",
   "metadata": {
    "id": "jqlO2sWCEs7P"
   },
   "source": [
    "# Cabecera H1 \n",
    "## Cabecera H2: Probando distintos estilos de texto.\n",
    "### Cabecera H3: Tipos de letra.\n",
    "\n",
    "Puedo escribir texto normal.\n",
    "\n",
    "_Con un guión bajo escribo en itálica_.\n",
    "\n",
    "__Con dos guiones bajos escribo en negrita__.\n",
    "\n",
    "### Cabecera de tipo H3: Lista de items.\n",
    "\n",
    "* Item 1\n",
    "* Item 2\n",
    "* Item 3 : para los items utilizamos el símbolo '*' al comienzo.\n",
    "    * Item 3a  \n",
    "    * Item 3b: para los sub-items utilizamos el tabulador  yel símbolo '*' al comienzo.\n",
    "    * Item 3c\n",
    "\n",
    "# Otra cabecera H1"
   ]
  },
  {
   "cell_type": "code",
   "execution_count": null,
   "metadata": {
    "colab": {
     "base_uri": "https://localhost:8080/"
    },
    "executionInfo": {
     "elapsed": 9,
     "status": "ok",
     "timestamp": 1623683463331,
     "user": {
      "displayName": "JOSE IGNACIO REQUENO JARABO",
      "photoUrl": "",
      "userId": "00630358942261279024"
     },
     "user_tz": -120
    },
    "id": "mMc-AjKqE04U",
    "outputId": "df40f8fc-8c0f-4f1f-d084-f6402217e123"
   },
   "outputs": [
    {
     "data": {
      "text/plain": [
       "72"
      ]
     },
     "execution_count": 1,
     "metadata": {
      "tags": []
     },
     "output_type": "execute_result"
    }
   ],
   "source": [
    "8 * (5 + 4)"
   ]
  },
  {
   "cell_type": "code",
   "execution_count": null,
   "metadata": {
    "colab": {
     "base_uri": "https://localhost:8080/",
     "height": 35
    },
    "executionInfo": {
     "elapsed": 300,
     "status": "ok",
     "timestamp": 1623683466219,
     "user": {
      "displayName": "JOSE IGNACIO REQUENO JARABO",
      "photoUrl": "",
      "userId": "00630358942261279024"
     },
     "user_tz": -120
    },
    "id": "c1EJtVjJE0qV",
    "outputId": "9897c4f4-28b7-4cff-bd0f-e9a9a7e0bc1a"
   },
   "outputs": [
    {
     "data": {
      "application/vnd.google.colaboratory.intrinsic+json": {
       "type": "string"
      },
      "text/plain": [
       "'/content'"
      ]
     },
     "execution_count": 2,
     "metadata": {
      "tags": []
     },
     "output_type": "execute_result"
    }
   ],
   "source": [
    "%pwd"
   ]
  }
 ],
 "metadata": {
  "colab": {
   "authorship_tag": "ABX9TyPepJ65UPe0MEg1dBreFX6/",
   "collapsed_sections": [],
   "name": "documento_inicial.ipynb",
   "provenance": []
  },
  "kernelspec": {
   "display_name": "Python 3 (ipykernel)",
   "language": "python",
   "name": "python3"
  },
  "language_info": {
   "codemirror_mode": {
    "name": "ipython",
    "version": 3
   },
   "file_extension": ".py",
   "mimetype": "text/x-python",
   "name": "python",
   "nbconvert_exporter": "python",
   "pygments_lexer": "ipython3",
   "version": "3.11.7"
  }
 },
 "nbformat": 4,
 "nbformat_minor": 4
}
