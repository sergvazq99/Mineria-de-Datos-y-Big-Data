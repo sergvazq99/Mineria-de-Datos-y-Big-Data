{
 "cells": [
  {
   "cell_type": "markdown",
   "metadata": {},
   "source": [
    "<div id=\"navegacion\" prev=\"../Tema_7/t7_pandas_034.html\" next=\"\"></div>\n",
    "\n",
    "<div class=\"section-title\">Sección 5.5</div>"
   ]
  },
  {
   "cell_type": "markdown",
   "metadata": {},
   "source": [
    "# Ejercicios "
   ]
  },
  {
   "cell_type": "markdown",
   "metadata": {
    "collapsed": true,
    "jupyter": {
     "outputs_hidden": true
    }
   },
   "source": [
    "## Ejercicio 1"
   ]
  },
  {
   "cell_type": "markdown",
   "metadata": {},
   "source": [
    "El fichero [pedidos.csv](./datos/pedidos.csv) recoge los datos de los pedidos de una empresa en su último trimestre. Cada pedido puede tener distintas lineas de pedido, donde cada línea representa un producto.\n",
    "\n",
    "La información del fichero por columnas es: \n",
    "* Número de pedido\n",
    "* Linea de pedido\n",
    "* Producto\n",
    "* Cantidad\n",
    "* Precio unitario en Euros (separador de decimales = ',')\n",
    "\n",
    "\n",
    "\n",
    "__a)__ Carga los datos en un DataFrame con la función `read_csv`. \n",
    "\n",
    "* El índice del DataFrame ha de ser el número de pedido.\n",
    "* Para ver las opcciones de la función `read_csv` ejecuta la siguiente celda:"
   ]
  },
  {
   "cell_type": "code",
   "execution_count": 32,
   "metadata": {
    "ExecuteTime": {
     "end_time": "2019-01-06T09:06:16.802568Z",
     "start_time": "2019-01-06T09:06:16.799101Z"
    }
   },
   "outputs": [
    {
     "name": "stdout",
     "output_type": "stream",
     "text": [
      "     Numero_pedido   producto  cantidad  precio  linea_de_pedido\n",
      "0            10105  S700_2610        31   65,77                3\n",
      "1            10105  S700_3505        39   81,14                6\n",
      "2            10105  S700_3962        22  116,19                7\n",
      "3            10105   S72_3212        25   56,78                8\n",
      "4            10106   S18_1662        36  146,65               12\n",
      "..             ...        ...       ...     ...              ...\n",
      "195          10126  S700_2824        45  102,16                6\n",
      "196          10127   S12_1108        46   245,2                2\n",
      "197          10127   S12_3148        46  160,14                3\n",
      "198          10127   S12_3891        42  193,78                1\n",
      "199          10127   S12_4473        24  106,65               11\n",
      "\n",
      "[200 rows x 5 columns]\n"
     ]
    }
   ],
   "source": [
    "# Sol: \n",
    "import pandas as pd\n",
    "datos=pd.read_csv(\"pedidos.csv\",delimiter=\"|\");\n",
    "print(datos);\n"
   ]
  },
  {
   "cell_type": "markdown",
   "metadata": {},
   "source": [
    "__b)__ Modifica los valores del precio unitario a 0 cuando el valor sea NaN."
   ]
  },
  {
   "cell_type": "code",
   "execution_count": 23,
   "metadata": {
    "ExecuteTime": {
     "end_time": "2019-01-06T09:06:16.802568Z",
     "start_time": "2019-01-06T09:06:16.799101Z"
    },
    "scrolled": true
   },
   "outputs": [],
   "source": [
    "# Sol: \n",
    "datos[\"precio\"]=datos[\"precio\"].fillna(0);\n"
   ]
  },
  {
   "cell_type": "markdown",
   "metadata": {},
   "source": [
    "\n",
    "__c)__ Calcula el número de pedido (o pedidos) que contengan el producto más caro."
   ]
  },
  {
   "cell_type": "code",
   "execution_count": 24,
   "metadata": {
    "ExecuteTime": {
     "end_time": "2019-01-06T09:06:16.802568Z",
     "start_time": "2019-01-06T09:06:16.799101Z"
    }
   },
   "outputs": [
    {
     "name": "stdout",
     "output_type": "stream",
     "text": [
      "29\n"
     ]
    }
   ],
   "source": [
    "# Sol:\n",
    "import numpy as np\n",
    "def numberOfDeliveries(datos):\n",
    "    deliveries=datos[\"precio\"].replace({',': '.'}, regex=True).astype(float);\n",
    "    max_price=deliveries.max();\n",
    "    count=0;\n",
    "    for i,price in enumerate(deliveries):\n",
    "        if price==max_price:\n",
    "            count+=datos[\"cantidad\"].iloc[i];\n",
    "    return count;\n",
    "\n",
    "\n",
    "print(numberOfDeliveries(datos));\n",
    "    "
   ]
  },
  {
   "cell_type": "markdown",
   "metadata": {},
   "source": [
    "__d)__ ¿Qué productos aparecen en los pedidos del dataset? Usa `unique`.\n"
   ]
  },
  {
   "cell_type": "code",
   "execution_count": 56,
   "metadata": {
    "ExecuteTime": {
     "end_time": "2019-01-06T09:06:17.931605Z",
     "start_time": "2019-01-06T09:06:17.928598Z"
    }
   },
   "outputs": [
    {
     "name": "stdout",
     "output_type": "stream",
     "text": [
      "['S10_1678' 'S10_1949' 'S10_2016' 'S10_4698' 'S10_4757' 'S10_4962'\n",
      " 'S12_1099' 'S12_1108' 'S12_1666' 'S12_2823' 'S12_3148' 'S12_3380'\n",
      " 'S12_3891' 'S12_3990' 'S12_4473' 'S12_4675' 'S18_1097' 'S18_1129'\n",
      " 'S18_1342' 'S18_1367' 'S18_1589' 'S18_1662' 'S18_1749' 'S18_1889'\n",
      " 'S18_1984' 'S18_2238' 'S18_2248' 'S18_2319' 'S18_2325' 'S18_2432'\n",
      " 'S18_2581' 'S18_2625' 'S18_2795' 'S18_2870' 'S18_2949' 'S18_2957'\n",
      " 'S18_3029' 'S18_3136' 'S18_3140' 'S18_3232' 'S18_3259' 'S18_3278'\n",
      " 'S18_3320' 'S18_3482' 'S18_3685' 'S18_3782' 'S18_3856' 'S18_4027'\n",
      " 'S18_4409' 'S18_4522' 'S18_4600' 'S18_4668' 'S18_4721' 'S18_4933'\n",
      " 'S24_1046' 'S24_1444' 'S24_1578' 'S24_1628' 'S24_1785' 'S24_1937'\n",
      " 'S24_2000' 'S24_2011' 'S24_2022' 'S24_2300' 'S24_2360' 'S24_2766'\n",
      " 'S24_2840' 'S24_2841' 'S24_2887' 'S24_2972' 'S24_3151' 'S24_3191'\n",
      " 'S24_3371' 'S24_3420' 'S24_3432' 'S24_3816' 'S24_3856' 'S24_3949'\n",
      " 'S24_3969' 'S24_4048' 'S24_4258' 'S24_4278' 'S24_4620' 'S32_1268'\n",
      " 'S32_1374' 'S32_2206' 'S32_2509' 'S32_3207' 'S32_3522' 'S32_4289'\n",
      " 'S32_4485' 'S50_1341' 'S50_1392' 'S50_1514' 'S50_4713' 'S700_1138'\n",
      " 'S700_1691' 'S700_1938' 'S700_2047' 'S700_2466' 'S700_2610' 'S700_2824'\n",
      " 'S700_2834' 'S700_3167' 'S700_3505' 'S700_3962' 'S700_4002' 'S72_1253'\n",
      " 'S72_3212']\n"
     ]
    }
   ],
   "source": [
    "# Sol:\n",
    "import numpy as np\n",
    "def products(datos):\n",
    "    products=datos[\"producto\"];\n",
    "    return np.unique(products);\n",
    "\n",
    "print(products(datos));"
   ]
  },
  {
   "cell_type": "markdown",
   "metadata": {},
   "source": [
    "__e)__ ¿Cúantas veces aparece cada producto en el dataset? Usa `value_counts`."
   ]
  },
  {
   "cell_type": "code",
   "execution_count": 59,
   "metadata": {
    "ExecuteTime": {
     "end_time": "2019-01-06T09:06:20.570092Z",
     "start_time": "2019-01-06T09:06:20.567116Z"
    }
   },
   "outputs": [
    {
     "name": "stdout",
     "output_type": "stream",
     "text": [
      "producto\n",
      "S18_3232     3\n",
      "S700_3505    2\n",
      "S700_3962    2\n",
      "S72_3212     2\n",
      "S700_2610    2\n",
      "            ..\n",
      "S700_1938    1\n",
      "S10_4757     1\n",
      "S24_3151     1\n",
      "S24_3816     1\n",
      "S700_1138    1\n",
      "Name: count, Length: 109, dtype: int64\n"
     ]
    }
   ],
   "source": [
    "# Sol:\n",
    "import numpy as np\n",
    "def timesAppear(datos):\n",
    "    products=datos[\"producto\"];\n",
    "    return products.value_counts();\n",
    "\n",
    "print(timesAppear(datos));"
   ]
  },
  {
   "cell_type": "markdown",
   "metadata": {},
   "source": [
    "__f)__ Crea una nueva columna llamada `total_linea` que sea el importe total de la línea de pedido (precio unitario multiplicado por la cantidad)."
   ]
  },
  {
   "cell_type": "code",
   "execution_count": 39,
   "metadata": {
    "ExecuteTime": {
     "end_time": "2019-01-06T09:06:21.674433Z",
     "start_time": "2019-01-06T09:06:21.670961Z"
    }
   },
   "outputs": [
    {
     "name": "stdout",
     "output_type": "stream",
     "text": [
      "     Numero_pedido   producto  cantidad  precio  linea_de_pedido  total_linea\n",
      "0            10105  S700_2610        31   65,77                3      2038.87\n",
      "1            10105  S700_3505        39   81,14                6      3164.46\n",
      "2            10105  S700_3962        22  116,19                7      2556.18\n",
      "3            10105   S72_3212        25   56,78                8      1419.50\n",
      "4            10106   S18_1662        36  146,65               12      5279.40\n",
      "..             ...        ...       ...     ...              ...          ...\n",
      "195          10126  S700_2824        45  102,16                6      4597.20\n",
      "196          10127   S12_1108        46   245,2                2     11279.20\n",
      "197          10127   S12_3148        46  160,14                3      7366.44\n",
      "198          10127   S12_3891        42  193,78                1      8138.76\n",
      "199          10127   S12_4473        24  106,65               11      2559.60\n",
      "\n",
      "[200 rows x 6 columns]\n"
     ]
    }
   ],
   "source": [
    "# Sol:\n",
    "datos[\"total_linea\"]=(datos[\"precio\"].replace({',': '.'}, regex=True).astype(float))*datos[\"cantidad\"];\n",
    "print(datos);"
   ]
  },
  {
   "cell_type": "markdown",
   "metadata": {},
   "source": [
    "__g)__ Incrementa el precio de las líneas de pedido un 10% para aquellos productos cuyo precio sea superior a 80 Euros. Para ello crea una nueva columna llamada `Descuento`.\n",
    "\n",
    "* Crea una función que reciba como parámetro un valor de tipo entero que representa el precio. Si dicho valor es mayor de 80, la función lo devuelve incrementado en un 10%. Si el valor es menor o igual a 80, la función devuelve dicho valor sin cambios. \n",
    "* Aplica la función anterior usando  `map` sobre la columna `precio`."
   ]
  },
  {
   "cell_type": "code",
   "execution_count": 58,
   "metadata": {
    "ExecuteTime": {
     "end_time": "2019-01-06T09:06:21.674433Z",
     "start_time": "2019-01-06T09:06:21.670961Z"
    }
   },
   "outputs": [
    {
     "name": "stdout",
     "output_type": "stream",
     "text": [
      "     Numero_pedido   producto  cantidad  precio  linea_de_pedido  total_linea  \\\n",
      "0            10105  S700_2610        31   65,77                3      2038.87   \n",
      "1            10105  S700_3505        39   81,14                6      3164.46   \n",
      "2            10105  S700_3962        22  116,19                7      2556.18   \n",
      "3            10105   S72_3212        25   56,78                8      1419.50   \n",
      "4            10106   S18_1662        36  146,65               12      5279.40   \n",
      "..             ...        ...       ...     ...              ...          ...   \n",
      "195          10126  S700_2824        45  102,16                6      4597.20   \n",
      "196          10127   S12_1108        46   245,2                2     11279.20   \n",
      "197          10127   S12_3148        46  160,14                3      7366.44   \n",
      "198          10127   S12_3891        42  193,78                1      8138.76   \n",
      "199          10127   S12_4473        24  106,65               11      2559.60   \n",
      "\n",
      "     Descuento  \n",
      "0       65.770  \n",
      "1       89.254  \n",
      "2      127.809  \n",
      "3       56.780  \n",
      "4      161.315  \n",
      "..         ...  \n",
      "195    112.376  \n",
      "196    269.720  \n",
      "197    176.154  \n",
      "198    213.158  \n",
      "199    117.315  \n",
      "\n",
      "[200 rows x 7 columns]\n"
     ]
    }
   ],
   "source": [
    "# Sol:\n",
    "def incrementPrice(price):\n",
    "    final_price=0;\n",
    "    if price>80:\n",
    "        final_price=(price*0.10)+price;\n",
    "    else:\n",
    "        final_price=price;\n",
    "\n",
    "    return final_price;\n",
    "\n",
    "datos[\"Descuento\"] = datos[\"precio\"].replace({',': '.'}, regex=True).astype(float).map(incrementPrice)\n",
    "print(datos);\n",
    "        "
   ]
  },
  {
   "cell_type": "code",
   "execution_count": null,
   "metadata": {},
   "outputs": [],
   "source": []
  }
 ],
 "metadata": {
  "anaconda-cloud": {},
  "kernelspec": {
   "display_name": "Python 3 (ipykernel)",
   "language": "python",
   "name": "python3"
  },
  "language_info": {
   "codemirror_mode": {
    "name": "ipython",
    "version": 3
   },
   "file_extension": ".py",
   "mimetype": "text/x-python",
   "name": "python",
   "nbconvert_exporter": "python",
   "pygments_lexer": "ipython3",
   "version": "3.11.7"
  },
  "nbTranslate": {
   "displayLangs": [
    "en",
    "es"
   ],
   "hotkey": "alt-t",
   "langInMainMenu": true,
   "sourceLang": "es",
   "targetLang": "en",
   "useGoogleTranslate": true
  },
  "toc": {
   "nav_menu": {
    "height": "86px",
    "width": "252px"
   },
   "number_sections": true,
   "sideBar": true,
   "skip_h1_title": false,
   "title_cell": "Table of Contents",
   "title_sidebar": "Contents",
   "toc_cell": false,
   "toc_position": {},
   "toc_section_display": "block",
   "toc_window_display": false
  }
 },
 "nbformat": 4,
 "nbformat_minor": 4
}
